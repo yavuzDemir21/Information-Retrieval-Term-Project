{
 "cells": [
  {
   "cell_type": "code",
   "execution_count": 1,
   "metadata": {},
   "outputs": [],
   "source": [
    "f_a1 = open(\"BioNLP-OST-2019_BB-norm_train/BB-norm-1016123.a1\", \"r\")"
   ]
  },
  {
   "cell_type": "code",
   "execution_count": 2,
   "metadata": {},
   "outputs": [],
   "source": [
    "a1 = f_a1.read()"
   ]
  },
  {
   "cell_type": "code",
   "execution_count": 10,
   "metadata": {},
   "outputs": [],
   "source": [
    "a1_list = a1.split('\\n')"
   ]
  },
  {
   "cell_type": "code",
   "execution_count": 4,
   "metadata": {},
   "outputs": [],
   "source": [
    "f_a2 = open(\"BioNLP-OST-2019_BB-norm_train/BB-norm-1016123.a2\", \"r\")"
   ]
  },
  {
   "cell_type": "code",
   "execution_count": 5,
   "metadata": {},
   "outputs": [],
   "source": [
    "a2 = f_a2.read()"
   ]
  },
  {
   "cell_type": "code",
   "execution_count": 6,
   "metadata": {},
   "outputs": [
    {
     "data": {
      "text/plain": [
       "['N1\\tOntoBiotope Annotation:T3 Referent:OBT:000360',\n",
       " 'N2\\tOntoBiotope Annotation:T4 Referent:OBT:000360',\n",
       " 'N3\\tNCBI_Taxonomy Annotation:T5 Referent:590',\n",
       " 'N4\\tOntoBiotope Annotation:T6 Referent:OBT:001086',\n",
       " 'N5\\tOntoBiotope Annotation:T7 Referent:OBT:001847',\n",
       " 'N6\\tNCBI_Taxonomy Annotation:T8 Referent:599',\n",
       " 'N7\\tOntoBiotope Annotation:T9 Referent:OBT:001847',\n",
       " 'N8\\tOntoBiotope Annotation:T10 Referent:OBT:001086',\n",
       " 'N9\\tOntoBiotope Annotation:T11 Referent:OBT:000360',\n",
       " 'N10\\tOntoBiotope Annotation:T12 Referent:OBT:000360',\n",
       " 'N11\\tOntoBiotope Annotation:T13 Referent:OBT:000360',\n",
       " 'N12\\tOntoBiotope Annotation:T14 Referent:OBT:000360',\n",
       " 'N13\\tNCBI_Taxonomy Annotation:T15 Referent:590',\n",
       " 'N14\\tOntoBiotope Annotation:T16 Referent:OBT:001086',\n",
       " 'N15\\tOntoBiotope Annotation:T17 Referent:OBT:001847',\n",
       " 'N16\\tNCBI_Taxonomy Annotation:T18 Referent:605',\n",
       " 'N17\\tOntoBiotope Annotation:T19 Referent:OBT:000360',\n",
       " '']"
      ]
     },
     "execution_count": 6,
     "metadata": {},
     "output_type": "execute_result"
    }
   ],
   "source": [
    "a2.split('\\n')"
   ]
  },
  {
   "cell_type": "code",
   "execution_count": 7,
   "metadata": {},
   "outputs": [],
   "source": [
    "f_txt = open(\"BioNLP-OST-2019_BB-norm_train/BB-norm-1016123.txt\", \"r\")"
   ]
  },
  {
   "cell_type": "code",
   "execution_count": 8,
   "metadata": {},
   "outputs": [],
   "source": [
    "text = f_txt.read()"
   ]
  },
  {
   "cell_type": "code",
   "execution_count": 9,
   "metadata": {
    "scrolled": true
   },
   "outputs": [
    {
     "data": {
      "text/plain": [
       "'An evaluation of selective broths based on the bi-selenite ion and on hypertonic strontium chloride in Salmonellae detection in egg products.\\nOf the 104 isolations of Salmonella sp. from egg pulp, 97 were obtained from strontium chloride M broth, 42 from strontium selenite broth and 57 from strontium selenite A broth. The results suggest that the first medium may be used more successfully than bi-selenite based media for enrichment and subsequent detection of salmonellae in egg products; however, the growth of S. pullorum was not satisfactory in strontium chloride M broth.\\n\\n'"
      ]
     },
     "execution_count": 9,
     "metadata": {},
     "output_type": "execute_result"
    }
   ],
   "source": [
    "text"
   ]
  },
  {
   "cell_type": "code",
   "execution_count": 21,
   "metadata": {},
   "outputs": [
    {
     "data": {
      "text/plain": [
       "['T1\\tTitle 0 141\\tAn evaluation of selective broths based on the bi-selenite ion and on hypertonic strontium chloride in Salmonellae detection in egg products.',\n",
       " 'T2\\tParagraph 142 579\\tOf the 104 isolations of Salmonella sp. from egg pulp, 97 were obtained from strontium chloride M broth, 42 from strontium selenite broth and 57 from strontium selenite A broth. The results suggest that the first medium may be used more successfully than bi-selenite based media for enrichment and subsequent detection of salmonellae in egg products; however, the growth of S. pullorum was not satisfactory in strontium chloride M broth.',\n",
       " 'T3\\tHabitat 17 39;67 99\\tselective broths based on hypertonic strontium chloride',\n",
       " 'T4\\tHabitat 17 62\\tselective broths based on the bi-selenite ion',\n",
       " 'T5\\tMicroorganism 103 114\\tSalmonellae',\n",
       " 'T6\\tHabitat 128 140\\tegg products',\n",
       " 'T7\\tHabitat 128 131\\tegg',\n",
       " 'T8\\tMicroorganism 167 177\\tSalmonella',\n",
       " 'T9\\tHabitat 187 190\\tegg',\n",
       " 'T10\\tHabitat 187 195\\tegg pulp',\n",
       " 'T11\\tHabitat 219 245\\tstrontium chloride M broth',\n",
       " 'T12\\tHabitat 255 279\\tstrontium selenite broth',\n",
       " 'T13\\tHabitat 292 318\\tstrontium selenite A broth',\n",
       " 'T14\\tHabitat 397 420\\tbi-selenite based media',\n",
       " 'T15\\tMicroorganism 464 475\\tsalmonellae',\n",
       " 'T16\\tHabitat 479 491\\tegg products',\n",
       " 'T17\\tHabitat 479 482\\tegg',\n",
       " 'T18\\tMicroorganism 516 527\\tS. pullorum',\n",
       " 'T19\\tHabitat 552 578\\tstrontium chloride M broth',\n",
       " '']"
      ]
     },
     "execution_count": 21,
     "metadata": {},
     "output_type": "execute_result"
    }
   ],
   "source": [
    "a1_list"
   ]
  },
  {
   "cell_type": "code",
   "execution_count": 24,
   "metadata": {},
   "outputs": [
    {
     "data": {
      "text/plain": [
       "['selective', 'broths', 'based', 'on', 'hypertonic', 'strontium', 'chloride']"
      ]
     },
     "execution_count": 24,
     "metadata": {},
     "output_type": "execute_result"
    }
   ],
   "source": [
    "a1_list[2][a1_list[2].index('\\t',10)+1:].split(' ')"
   ]
  },
  {
   "cell_type": "code",
   "execution_count": 22,
   "metadata": {},
   "outputs": [
    {
     "data": {
      "text/plain": [
       "22"
      ]
     },
     "execution_count": 22,
     "metadata": {},
     "output_type": "execute_result"
    }
   ],
   "source": [
    "a1_list[2].rindex('\\t')"
   ]
  },
  {
   "cell_type": "code",
   "execution_count": 12,
   "metadata": {
    "scrolled": true
   },
   "outputs": [
    {
     "data": {
      "text/plain": [
       "'Habitat'"
      ]
     },
     "execution_count": 12,
     "metadata": {},
     "output_type": "execute_result"
    }
   ],
   "source": [
    "a1_list[2][3:10]"
   ]
  },
  {
   "cell_type": "code",
   "execution_count": 29,
   "metadata": {},
   "outputs": [],
   "source": [
    "Habitat_Trie = {}"
   ]
  },
  {
   "cell_type": "code",
   "execution_count": 31,
   "metadata": {},
   "outputs": [],
   "source": [
    "def construct_habitat(root, word_list, i):\n",
    "    if i == len(word_list):\n",
    "        root['is_habitat'] = True\n",
    "        return root\n",
    "    \n",
    "    word = word_list[i]\n",
    "    if(word not in root):\n",
    "        root[word] = {}\n",
    "    \n",
    "    i = i+1\n",
    "    construct_habitat(root[word], word_list, i)\n",
    "    \n",
    "    return root\n",
    "    "
   ]
  },
  {
   "cell_type": "code",
   "execution_count": 32,
   "metadata": {},
   "outputs": [],
   "source": [
    "for tag in a1_list:\n",
    "    if tag[3:10] == 'Habitat':\n",
    "        cur_habitat = tag[tag.rindex('\\t')+1:]\n",
    "        words_in_cur = cur_habitat.split(' ')\n",
    "        \n",
    "        construct_habitat(Habitat_Trie, words_in_cur, 0)\n",
    "        "
   ]
  },
  {
   "cell_type": "code",
   "execution_count": 34,
   "metadata": {},
   "outputs": [],
   "source": [
    "import pprint"
   ]
  },
  {
   "cell_type": "code",
   "execution_count": 36,
   "metadata": {},
   "outputs": [
    {
     "name": "stdout",
     "output_type": "stream",
     "text": [
      "{'egg': {'is_habitat': True, 'products': {'is_habitat': True}},\n",
      " 'selective': {'broths': {'based': {'on': {'hypertonic': {'strontium': {'chloride': {'is_habitat': True}}},\n",
      "                                           'the': {'bi-selenite': {'ion': {'is_habitat': True}}}}}}}}\n"
     ]
    }
   ],
   "source": [
    "pprint.pprint(Habitat_Trie)"
   ]
  },
  {
   "cell_type": "code",
   "execution_count": 1,
   "metadata": {},
   "outputs": [],
   "source": [
    "import os"
   ]
  },
  {
   "cell_type": "code",
   "execution_count": 8,
   "metadata": {},
   "outputs": [],
   "source": [
    "BB_norms = os.listdir(\"./BioNLP-OST-2019_BB-norm_train/\")"
   ]
  },
  {
   "cell_type": "code",
   "execution_count": 12,
   "metadata": {},
   "outputs": [
    {
     "data": {
      "text/plain": [
       "'a1'"
      ]
     },
     "execution_count": 12,
     "metadata": {},
     "output_type": "execute_result"
    }
   ],
   "source": [
    "BB_norms[0][len(BB_norms[0])-2:]"
   ]
  },
  {
   "cell_type": "code",
   "execution_count": null,
   "metadata": {},
   "outputs": [],
   "source": [
    "for txt in BB_norms:\n",
    "    if txt[len(txt)-2:] == 'a1':\n",
    "        f = open(\"BioNLP-OST-2019_BB-norm_train/\"+txt, \"r\")\n",
    "        file_text = f.read()\n",
    "        tag_list = file_text"
   ]
  },
  {
   "cell_type": "code",
   "execution_count": null,
   "metadata": {},
   "outputs": [],
   "source": []
  }
 ],
 "metadata": {
  "kernelspec": {
   "display_name": "Python 3",
   "language": "python",
   "name": "python3"
  },
  "language_info": {
   "codemirror_mode": {
    "name": "ipython",
    "version": 3
   },
   "file_extension": ".py",
   "mimetype": "text/x-python",
   "name": "python",
   "nbconvert_exporter": "python",
   "pygments_lexer": "ipython3",
   "version": "3.7.4"
  }
 },
 "nbformat": 4,
 "nbformat_minor": 2
}
