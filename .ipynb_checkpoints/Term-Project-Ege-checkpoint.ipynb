{
 "cells": [
  {
   "cell_type": "code",
   "execution_count": 39,
   "metadata": {},
   "outputs": [],
   "source": [
    "import os, re"
   ]
  },
  {
   "cell_type": "code",
   "execution_count": 19,
   "metadata": {},
   "outputs": [],
   "source": [
    "train_path = \"./BioNLP-OST-2019_BB-norm_train/\"\n",
    "test_path = \"./BioNLP-OST-2019_BB-norm_test/\" \n",
    "BB_train = os.listdir(train_path)\n",
    "BB_test = os.listdir(test_path)"
   ]
  },
  {
   "cell_type": "code",
   "execution_count": 20,
   "metadata": {},
   "outputs": [],
   "source": [
    "BB_train_a1 = sorted([name for name in BB_train if name.endswith(\"a1\")])\n",
    "BB_train_a2 = sorted([name for name in BB_train if name.endswith(\"a2\")])\n",
    "BB_train_txt = sorted([name for name in BB_train if name.endswith(\"txt\")])\n",
    "\n",
    "BB_test_a1 = sorted([name for name in BB_test if name.endswith(\"a1\")])\n",
    "BB_test_txt = sorted([name for name in BB_test if name.endswith(\"txt\")])"
   ]
  },
  {
   "cell_type": "code",
   "execution_count": 22,
   "metadata": {},
   "outputs": [
    {
     "name": "stdout",
     "output_type": "stream",
     "text": [
      "T1\tTitle 0 141\tAn evaluation of selective broths based on the bi-selenite ion and on hypertonic strontium chloride in Salmonellae detection in egg products.\n",
      "T2\tParagraph 142 579\tOf the 104 isolations of Salmonella sp. from egg pulp, 97 were obtained from strontium chloride M broth, 42 from strontium selenite broth and 57 from strontium selenite A broth. The results suggest that the first medium may be used more successfully than bi-selenite based media for enrichment and subsequent detection of salmonellae in egg products; however, the growth of S. pullorum was not satisfactory in strontium chloride M broth.\n",
      "T3\tHabitat 17 39;67 99\tselective broths based on hypertonic strontium chloride\n",
      "T4\tHabitat 17 62\tselective broths based on the bi-selenite ion\n",
      "T5\tMicroorganism 103 114\tSalmonellae\n",
      "T6\tHabitat 128 140\tegg products\n",
      "T7\tHabitat 128 131\tegg\n",
      "T8\tMicroorganism 167 177\tSalmonella\n",
      "T9\tHabitat 187 190\tegg\n",
      "T10\tHabitat 187 195\tegg pulp\n",
      "T11\tHabitat 219 245\tstrontium chloride M broth\n",
      "T12\tHabitat 255 279\tstrontium selenite broth\n",
      "T13\tHabitat 292 318\tstrontium selenite A broth\n",
      "T14\tHabitat 397 420\tbi-selenite based media\n",
      "T15\tMicroorganism 464 475\tsalmonellae\n",
      "T16\tHabitat 479 491\tegg products\n",
      "T17\tHabitat 479 482\tegg\n",
      "T18\tMicroorganism 516 527\tS. pullorum\n",
      "T19\tHabitat 552 578\tstrontium chloride M broth\n",
      "\n"
     ]
    }
   ],
   "source": [
    "print(open(train_path + BB_train_a1[0]).read())"
   ]
  },
  {
   "cell_type": "code",
   "execution_count": 25,
   "metadata": {},
   "outputs": [
    {
     "name": "stdout",
     "output_type": "stream",
     "text": [
      "N1\tOntoBiotope Annotation:T3 Referent:OBT:000360\n",
      "N2\tOntoBiotope Annotation:T4 Referent:OBT:000360\n",
      "N3\tNCBI_Taxonomy Annotation:T5 Referent:590\n",
      "N4\tOntoBiotope Annotation:T6 Referent:OBT:001086\n",
      "N5\tOntoBiotope Annotation:T7 Referent:OBT:001847\n",
      "N6\tNCBI_Taxonomy Annotation:T8 Referent:599\n",
      "N7\tOntoBiotope Annotation:T9 Referent:OBT:001847\n",
      "N8\tOntoBiotope Annotation:T10 Referent:OBT:001086\n",
      "N9\tOntoBiotope Annotation:T11 Referent:OBT:000360\n",
      "N10\tOntoBiotope Annotation:T12 Referent:OBT:000360\n",
      "N11\tOntoBiotope Annotation:T13 Referent:OBT:000360\n",
      "N12\tOntoBiotope Annotation:T14 Referent:OBT:000360\n",
      "N13\tNCBI_Taxonomy Annotation:T15 Referent:590\n",
      "N14\tOntoBiotope Annotation:T16 Referent:OBT:001086\n",
      "N15\tOntoBiotope Annotation:T17 Referent:OBT:001847\n",
      "N16\tNCBI_Taxonomy Annotation:T18 Referent:605\n",
      "N17\tOntoBiotope Annotation:T19 Referent:OBT:000360\n",
      "\n"
     ]
    }
   ],
   "source": [
    "print(open(train_path + BB_train_a2[0]).read())"
   ]
  },
  {
   "cell_type": "code",
   "execution_count": 70,
   "metadata": {},
   "outputs": [
    {
     "name": "stdout",
     "output_type": "stream",
     "text": [
      "Application of ozone for enhancing the microbiological safety and quality of foods: a review.\n",
      "Ozone (O3) is a strong antimicrobial agent with numerous potential applications in the food industry. High reactivity, penetrability, and spontaneous decomposition to a nontoxic product (i.e., O2) make ozone a viable disinfectant for ensuring the microbiological safety of food products. Ozone has been used for decades in many countries and recently, the generally recognized as safe (GRAS) status of this gas has been reaffirmed in the United States. Ozone, in the gaseous or aqueous phases, is effective against the majority of microorganisms tested by numerous research groups. Relatively low concentrations of ozone and short contact time are sufficient to inactivate bacteria, molds, yeasts, parasites, and viruses. However, rates of inactivation are greater in ozone demand-free systems than when the medium contains oxidizable organic substances. Susceptibility of microorganisms to ozone also varies with the physiological state of the culture, pH of the medium, temperature, humidity, and presence of additives (e.g., acids, surfactants, and sugars). Ozone applications in the food industry are mostly related to decontamination of product surface and water treatment. Ozone has been used with mixed success to inactivate contaminant microflora on meat, poultry, eggs, fish, fruits, vegetables, and dry foods. The gas also is useful in detoxification and elimination of mycotoxins and pesticide residues from some agricultural products. Excessive use of ozone, however, may cause oxidation of some ingredients on food surface. This usually results in discoloration and deterioration of food flavor. Additional research is needed to elucidate the kinetics and mechanisms of microbial inactivation by ozone and to optimize its use in food applications.\n",
      "\n",
      "\n"
     ]
    }
   ],
   "source": [
    "print(open(train_path + BB_train_txt[1]).read())"
   ]
  },
  {
   "cell_type": "code",
   "execution_count": 85,
   "metadata": {},
   "outputs": [],
   "source": [
    "def add_habitats(a1, a2):\n",
    "    a2 = a2.split(\"\\n\")\n",
    "    a1 = a1.split(\"\\n\")\n",
    "    a1_line = 0\n",
    "    for annotation in a2:\n",
    "        t = \"\"\n",
    "        oid = \"\"\n",
    "        print(annotation)\n",
    "        if \"OntoBiotope\" in annotation:\n",
    "            t = re.findall(r\"(?<=Annotation:)T[0-9]+\", annotation)[0]\n",
    "            oid = re.findall(r\"(?<=Referent:OBT:)[0-9]+\", annotation)[0]\n",
    "            named_entity = \"\"\n",
    "            while t not in a1[a1_line] and a1_line < len(a1):\n",
    "                a1_line += 1\n",
    "            if \"Habitat\" in a1[a1_line]:\n",
    "                #named_entity = re.findall(r\"(?<=[0-9]+ [0-9]+\\s).+\", a1[a1_line])\n",
    "                named_entity = \" \".join(a1[a1_line].split()[4:])\n",
    "                print(named_entity)\n",
    "                \n",
    "                \n",
    "            "
   ]
  },
  {
   "cell_type": "code",
   "execution_count": 86,
   "metadata": {},
   "outputs": [
    {
     "name": "stdout",
     "output_type": "stream",
     "text": [
      "N1\tOntoBiotope Annotation:T3 Referent:OBT:000477\n",
      "ozone\n",
      "N2\tOntoBiotope Annotation:T4 Referent:OBT:000094\n",
      "foods\n",
      "N3\tOntoBiotope Annotation:T5 Referent:OBT:000477\n",
      "Ozone\n",
      "N4\tOntoBiotope Annotation:T6 Referent:OBT:000477\n",
      "O3\n",
      "N5\tOntoBiotope Annotation:T7 Referent:OBT:000094\n",
      "food\n",
      "N6\tOntoBiotope Annotation:T8 Referent:OBT:001557\n",
      "food industry\n",
      "N7\tOntoBiotope Annotation:T9 Referent:OBT:000477\n",
      "ozone\n",
      "N8\tOntoBiotope Annotation:T10 Referent:OBT:000094\n",
      "food products\n",
      "N9\tOntoBiotope Annotation:T11 Referent:OBT:000477\n",
      "Ozone\n",
      "N10\tOntoBiotope Annotation:T12 Referent:OBT:000477\n",
      "Ozone\n",
      "N11\tOntoBiotope Annotation:T13 Referent:OBT:000477\n",
      "ozone\n",
      "N12\tOntoBiotope Annotation:T14 Referent:OBT:000372\n",
      "N13\tOntoBiotope Annotation:T15 Referent:OBT:000477\n",
      "ozone\n",
      "N14\tOntoBiotope Annotation:T16 Referent:OBT:000477\n",
      "ozone\n",
      "N15\tOntoBiotope Annotation:T17 Referent:OBT:000477\n",
      "additives\n",
      "N16\tOntoBiotope Annotation:T18 Referent:OBT:000477\n",
      "acids\n",
      "N17\tOntoBiotope Annotation:T19 Referent:OBT:000477\n",
      "surfactants\n",
      "N18\tOntoBiotope Annotation:T20 Referent:OBT:001340\n",
      "sugars\n",
      "N19\tOntoBiotope Annotation:T21 Referent:OBT:000477\n",
      "Ozone\n",
      "N20\tOntoBiotope Annotation:T22 Referent:OBT:001557\n",
      "food industry\n",
      "N21\tOntoBiotope Annotation:T23 Referent:OBT:000094\n",
      "food\n",
      "N22\tOntoBiotope Annotation:T24 Referent:OBT:000902\n",
      "product surface\n",
      "N23\tOntoBiotope Annotation:T25 Referent:OBT:000468\n",
      "water\n",
      "N24\tOntoBiotope Annotation:T26 Referent:OBT:000477\n",
      "Ozone\n",
      "N25\tOntoBiotope Annotation:T27 Referent:OBT:000113\n",
      "contaminant microflora\n",
      "N26\tOntoBiotope Annotation:T28 Referent:OBT:001200\n",
      "meat\n",
      "N27\tOntoBiotope Annotation:T29 Referent:OBT:002199\n",
      "poultry\n",
      "N28\tOntoBiotope Annotation:T30 Referent:OBT:001847\n",
      "eggs\n",
      "N29\tOntoBiotope Annotation:T31 Referent:OBT:001549\n",
      "fish\n",
      "N30\tOntoBiotope Annotation:T32 Referent:OBT:001122\n",
      "fruits\n",
      "N31\tOntoBiotope Annotation:T33 Referent:OBT:001126\n",
      "vegetables\n",
      "N32\tOntoBiotope Annotation:T34 Referent:OBT:001526\n",
      "dry foods\n",
      "N33\tOntoBiotope Annotation:T35 Referent:OBT:000034\n",
      "agricultural products\n",
      "N34\tOntoBiotope Annotation:T36 Referent:OBT:000477\n",
      "ozone\n",
      "N35\tOntoBiotope Annotation:T37 Referent:OBT:000902\n",
      "food surface\n",
      "N36\tOntoBiotope Annotation:T38 Referent:OBT:000094\n",
      "food\n",
      "N37\tOntoBiotope Annotation:T39 Referent:OBT:000477\n",
      "ozone\n",
      "N38\tOntoBiotope Annotation:T40 Referent:OBT:000094\n",
      "food\n",
      "\n"
     ]
    }
   ],
   "source": [
    "i = 1\n",
    "add_habitats(open(train_path + BB_train_a1[i]).read(), open(train_path + BB_train_a2[i]).read())\n"
   ]
  },
  {
   "cell_type": "code",
   "execution_count": null,
   "metadata": {},
   "outputs": [],
   "source": [
    "for i in range(len(BB_train_txt)):\n",
    "    a1 = open(train_path + BB_train_a1[i]).read()\n",
    "    a2 = open(train_path + BB_train_a2[i]).read()\n",
    "    add_habitats(a1, a2)\n",
    "    a1.close()\n",
    "    a2.close()"
   ]
  }
 ],
 "metadata": {
  "kernelspec": {
   "display_name": "Python 3",
   "language": "python",
   "name": "python3"
  },
  "language_info": {
   "codemirror_mode": {
    "name": "ipython",
    "version": 3
   },
   "file_extension": ".py",
   "mimetype": "text/x-python",
   "name": "python",
   "nbconvert_exporter": "python",
   "pygments_lexer": "ipython3",
   "version": "3.7.4"
  }
 },
 "nbformat": 4,
 "nbformat_minor": 2
}
