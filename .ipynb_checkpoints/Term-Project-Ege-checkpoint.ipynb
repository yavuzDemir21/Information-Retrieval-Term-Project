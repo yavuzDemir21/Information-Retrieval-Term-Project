{
 "cells": [
  {
   "cell_type": "code",
   "execution_count": null,
   "metadata": {},
   "outputs": [],
   "source": [
    "import os, re"
   ]
  },
  {
   "cell_type": "code",
   "execution_count": null,
   "metadata": {},
   "outputs": [],
   "source": [
    "class Habitat:\n",
    "    oid = -1\n",
    "    name = \"\""
   ]
  },
  {
   "cell_type": "code",
   "execution_count": null,
   "metadata": {},
   "outputs": [],
   "source": [
    "train_path = \"./BioNLP-OST-2019_BB-norm_train/\"\n",
    "test_path = \"./BioNLP-OST-2019_BB-norm_test/\"\n",
    "dev_path = \"./BioNLP-OST-2019_BB-norm_dev/\"\n",
    "BB_train = os.listdir(train_path)\n",
    "BB_test = os.listdir(test_path)\n",
    "BB_dev = os.listdir(dev_path)\n",
    "obp_file = \"OntoBiotope_BioNLP-OST-2019.obo\""
   ]
  },
  {
   "cell_type": "code",
   "execution_count": null,
   "metadata": {},
   "outputs": [],
   "source": [
    "ontology = open(obp_file,encoding=\"utf8\").read()"
   ]
  },
  {
   "cell_type": "code",
   "execution_count": null,
   "metadata": {},
   "outputs": [],
   "source": [
    "BB_train_a1 = sorted([name for name in BB_train if name.endswith(\"a1\")])\n",
    "BB_train_a2 = sorted([name for name in BB_train if name.endswith(\"a2\")])\n",
    "BB_train_txt = sorted([name for name in BB_train if name.endswith(\"txt\")])\n",
    "\n",
    "BB_dev_a1 = sorted([name for name in BB_dev if name.endswith(\"a1\")])\n",
    "BB_dev_a2 = sorted([name for name in BB_dev if name.endswith(\"a2\")])\n",
    "BB_dev_txt = sorted([name for name in BB_dev if name.endswith(\"txt\")])\n",
    "\n",
    "BB_test_a1 = sorted([name for name in BB_test if name.endswith(\"a1\")])\n",
    "BB_test_txt = sorted([name for name in BB_test if name.endswith(\"txt\")])"
   ]
  },
  {
   "cell_type": "code",
   "execution_count": null,
   "metadata": {},
   "outputs": [],
   "source": [
    "a = re.findall(r\"\\[Term\\]\\n.+\",ontology)"
   ]
  },
  {
   "cell_type": "code",
   "execution_count": null,
   "metadata": {},
   "outputs": [],
   "source": [
    "habitat_list = ontology.split(\"\\n\\n[Term]\\n\")[1:]\n",
    "habitat_map = {}\n",
    "habitat_map_originals = {}\n",
    "for h in habitat_list:\n",
    "    #new_habitat = Habitat()\n",
    "    h = h.split(\"\\n\")\n",
    "    oid = re.findall(r\"(?<=id: OBT:)[0-9]+\", h[0])[0]\n",
    "    name = re.findall(r\"(?<=name: ).+\", h[1])[0]\n",
    "    \n",
    "    habitat_map[name.lower()] = oid\n",
    "    habitat_map_originals[oid] = name.lower()\n",
    "    \n",
    "    for h_line in h:\n",
    "        if \"synonym\" in h_line:\n",
    "            synonym_name = re.findall(r\"(?<=synonym: \\\").+(?=\\\")\", h_line)[0]\n",
    "            if \"EXACT\" in h_line and synonym_name.lower() not in habitat_map:\n",
    "                habitat_map[synonym_name.lower()] = oid"
   ]
  },
  {
   "cell_type": "code",
   "execution_count": null,
   "metadata": {},
   "outputs": [],
   "source": [
    "def add_habitats(a1, a2):\n",
    "    a2 = a2.split(\"\\n\")\n",
    "    a1 = a1.split(\"\\n\")\n",
    "    \n",
    "    a1_line = 0\n",
    "    for annotation in a2:\n",
    "        t = \"\"\n",
    "        oid = \"\"\n",
    "        #print(annotation)\n",
    "        if \"OntoBiotope\" in annotation:\n",
    "            t = re.findall(r\"(?<=Annotation:)T[0-9]+\", annotation)[0]\n",
    "            oid = re.findall(r\"(?<=Referent:OBT:)[0-9]+\", annotation)[0]\n",
    "            named_entity = \"\"\n",
    "            \n",
    "            while t not in a1[a1_line] and a1_line < len(a1)-1:\n",
    "                a1_line += 1\n",
    "            if \"Habitat\" in a1[a1_line]: \n",
    "                named_entity = (a1[a1_line].split(\"\\t\")[2])\n",
    "                if named_entity not in habitat_map:\n",
    "                    habitat_map[named_entity] = oid\n",
    "                    print(\"Newly added entity:\", named_entity, oid)\n",
    "                    print(\"Original entity:\", habitat_map_originals[oid])"
   ]
  },
  {
   "cell_type": "code",
   "execution_count": null,
   "metadata": {},
   "outputs": [],
   "source": [
    "for i in range(len(BB_train_txt)):    \n",
    "    a1 = open(train_path + BB_train_a1[i],encoding=\"utf8\").read()\n",
    "    a2 = open(train_path + BB_train_a2[i],encoding=\"utf8\").read()\n",
    "    add_habitats(a1, a2)"
   ]
  },
  {
   "cell_type": "code",
   "execution_count": null,
   "metadata": {},
   "outputs": [],
   "source": [
    "def predict_habitats(a1, txt, a1_name):\n",
    "    cands = 0\n",
    "    matches = 0\n",
    "    match_list = [a1_name]\n",
    "    a1 = a1.split(\"\\n\")\n",
    "    for line in a1:\n",
    "        if \"Habitat\" in line:\n",
    "            cands += 1\n",
    "            named_entity = (line.split(\"\\t\")[2])\n",
    "            if named_entity in habitat_map:\n",
    "                matches += 1\n",
    "                match = named_entity + \" - \" + habitat_map[named_entity]\n",
    "                match_list.append(match)\n",
    "    print(a1_name)\n",
    "    print(\"Out of\", cands, \"candidates,\", matches, \"matches found\")\n",
    "    print()\n",
    "    return match_list\n",
    "\n",
    "                \n",
    "            "
   ]
  },
  {
   "cell_type": "code",
   "execution_count": null,
   "metadata": {},
   "outputs": [],
   "source": [
    "annotations_test = []\n",
    "for i in range(len(BB_dev_txt)):\n",
    "    a1 = open(dev_path + BB_dev_a1[i],encoding=\"utf8\").read()\n",
    "    txt = open(dev_path + BB_dev_txt[i],encoding=\"utf8\").read() \n",
    "    annotations_test.append(predict_habitats(a1, txt, BB_dev_a1[i]))"
   ]
  },
  {
   "cell_type": "code",
   "execution_count": null,
   "metadata": {},
   "outputs": [],
   "source": [
    "for i in range(len(annotations_test)):\n",
    "    for j in range(len(annotations_test[i])):\n",
    "        print(annotations_test[i][j])\n",
    "    print(\"\\n\\n\")"
   ]
  },
  {
   "cell_type": "code",
   "execution_count": null,
   "metadata": {},
   "outputs": [],
   "source": []
  }
 ],
 "metadata": {
  "kernelspec": {
   "display_name": "Python 3",
   "language": "python",
   "name": "python3"
  },
  "language_info": {
   "codemirror_mode": {
    "name": "ipython",
    "version": 3
   },
   "file_extension": ".py",
   "mimetype": "text/x-python",
   "name": "python",
   "nbconvert_exporter": "python",
   "pygments_lexer": "ipython3",
   "version": "3.7.4"
  }
 },
 "nbformat": 4,
 "nbformat_minor": 2
}
